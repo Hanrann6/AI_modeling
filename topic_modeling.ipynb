{
  "nbformat": 4,
  "nbformat_minor": 0,
  "metadata": {
    "colab": {
      "provenance": []
    },
    "kernelspec": {
      "name": "python3",
      "display_name": "Python 3"
    },
    "language_info": {
      "name": "python"
    }
  },
  "cells": [
    {
      "cell_type": "markdown",
      "source": [
        "# **토픽 모델링 과제**"
      ],
      "metadata": {
        "id": "hTNeFaJNgSlf"
      }
    },
    {
      "cell_type": "code",
      "execution_count": 70,
      "metadata": {
        "colab": {
          "base_uri": "https://localhost:8080/",
          "height": 611
        },
        "id": "M4caXchyRy8i",
        "outputId": "f725bb0d-4a14-4d6b-9ac0-e80261ef40ad"
      },
      "outputs": [
        {
          "output_type": "stream",
          "name": "stdout",
          "text": [
            "Collecting numpy==1.23.5\n",
            "  Using cached numpy-1.23.5-cp311-cp311-manylinux_2_17_x86_64.manylinux2014_x86_64.whl.metadata (2.3 kB)\n",
            "Using cached numpy-1.23.5-cp311-cp311-manylinux_2_17_x86_64.manylinux2014_x86_64.whl (17.1 MB)\n",
            "Installing collected packages: numpy\n",
            "  Attempting uninstall: numpy\n",
            "    Found existing installation: numpy 1.23.5\n",
            "    Uninstalling numpy-1.23.5:\n",
            "      Successfully uninstalled numpy-1.23.5\n",
            "\u001b[31mERROR: pip's dependency resolver does not currently take into account all the packages that are installed. This behaviour is the source of the following dependency conflicts.\n",
            "imbalanced-learn 0.13.0 requires numpy<3,>=1.24.3, but you have numpy 1.23.5 which is incompatible.\n",
            "tsfresh 0.21.0 requires scipy>=1.14.0; python_version >= \"3.10\", but you have scipy 1.13.1 which is incompatible.\n",
            "jaxlib 0.5.1 requires numpy>=1.25, but you have numpy 1.23.5 which is incompatible.\n",
            "chex 0.1.89 requires numpy>=1.24.1, but you have numpy 1.23.5 which is incompatible.\n",
            "scikit-image 0.25.2 requires numpy>=1.24, but you have numpy 1.23.5 which is incompatible.\n",
            "pymc 5.22.0 requires numpy>=1.25.0, but you have numpy 1.23.5 which is incompatible.\n",
            "bigframes 2.4.0 requires numpy>=1.24.0, but you have numpy 1.23.5 which is incompatible.\n",
            "albucore 0.0.24 requires numpy>=1.24.4, but you have numpy 1.23.5 which is incompatible.\n",
            "blosc2 3.3.3 requires numpy>=1.26, but you have numpy 1.23.5 which is incompatible.\n",
            "xarray 2025.3.1 requires numpy>=1.24, but you have numpy 1.23.5 which is incompatible.\n",
            "tensorflow 2.18.0 requires numpy<2.1.0,>=1.26.0, but you have numpy 1.23.5 which is incompatible.\n",
            "db-dtypes 1.4.3 requires numpy>=1.24.0, but you have numpy 1.23.5 which is incompatible.\n",
            "albumentations 2.0.7 requires numpy>=1.24.4, but you have numpy 1.23.5 which is incompatible.\n",
            "thinc 8.3.6 requires numpy<3.0.0,>=2.0.0, but you have numpy 1.23.5 which is incompatible.\n",
            "treescope 0.1.9 requires numpy>=1.25.2, but you have numpy 1.23.5 which is incompatible.\n",
            "jax 0.5.2 requires numpy>=1.25, but you have numpy 1.23.5 which is incompatible.\u001b[0m\u001b[31m\n",
            "\u001b[0mSuccessfully installed numpy-1.23.5\n"
          ]
        },
        {
          "output_type": "display_data",
          "data": {
            "application/vnd.colab-display-data+json": {
              "pip_warning": {
                "packages": [
                  "numpy"
                ]
              },
              "id": "9ca100083cfb435d861dec34c0ad230a"
            }
          },
          "metadata": {}
        }
      ],
      "source": [
        "# 라이브러리 설치\n",
        "!pip install numpy==1.23.5 --force-reinstall"
      ]
    },
    {
      "cell_type": "code",
      "source": [
        "!pip install --upgrade gensim\n",
        "!pip install nltk"
      ],
      "metadata": {
        "colab": {
          "base_uri": "https://localhost:8080/"
        },
        "id": "kUnIc4dAZkw6",
        "outputId": "1667ffab-aee2-4372-fa7a-c57f28ff674d"
      },
      "execution_count": 71,
      "outputs": [
        {
          "output_type": "stream",
          "name": "stdout",
          "text": [
            "Requirement already satisfied: gensim in /usr/local/lib/python3.11/dist-packages (4.3.3)\n",
            "Requirement already satisfied: numpy<2.0,>=1.18.5 in /usr/local/lib/python3.11/dist-packages (from gensim) (1.23.5)\n",
            "Requirement already satisfied: scipy<1.14.0,>=1.7.0 in /usr/local/lib/python3.11/dist-packages (from gensim) (1.13.1)\n",
            "Requirement already satisfied: smart-open>=1.8.1 in /usr/local/lib/python3.11/dist-packages (from gensim) (7.1.0)\n",
            "Requirement already satisfied: wrapt in /usr/local/lib/python3.11/dist-packages (from smart-open>=1.8.1->gensim) (1.17.2)\n",
            "Requirement already satisfied: nltk in /usr/local/lib/python3.11/dist-packages (3.9.1)\n",
            "Requirement already satisfied: click in /usr/local/lib/python3.11/dist-packages (from nltk) (8.2.1)\n",
            "Requirement already satisfied: joblib in /usr/local/lib/python3.11/dist-packages (from nltk) (1.5.0)\n",
            "Requirement already satisfied: regex>=2021.8.3 in /usr/local/lib/python3.11/dist-packages (from nltk) (2024.11.6)\n",
            "Requirement already satisfied: tqdm in /usr/local/lib/python3.11/dist-packages (from nltk) (4.67.1)\n"
          ]
        }
      ]
    },
    {
      "cell_type": "code",
      "source": [
        "import pandas as pd\n",
        "import json\n",
        "from nltk.corpus import stopwords\n",
        "from nltk.tokenize import RegexpTokenizer\n",
        "from gensim.corpora.dictionary import Dictionary\n",
        "from gensim.models import LdaModel"
      ],
      "metadata": {
        "id": "6m2n4aIadbNq"
      },
      "execution_count": 72,
      "outputs": []
    },
    {
      "cell_type": "code",
      "source": [
        "#  TXT 파일 불러오기\n",
        "with open('/content/petitions_2019-08.txt', encoding='utf-8') as f:\n",
        "    lines = f.readlines()"
      ],
      "metadata": {
        "id": "ZzsfyN_FdeXG"
      },
      "execution_count": 73,
      "outputs": []
    },
    {
      "cell_type": "code",
      "source": [
        "# JSON 파싱 후 DataFrame으로 변환\n",
        "data = [json.loads(line) for line in lines]\n",
        "df = pd.DataFrame(data)"
      ],
      "metadata": {
        "id": "oWx31gBddh_-"
      },
      "execution_count": 74,
      "outputs": []
    },
    {
      "cell_type": "code",
      "source": [
        "# NLTK 토크나이저 준비\n",
        "tokenizer = RegexpTokenizer(\"[\\w']{3,}\")\n",
        "english_stops = set(stopwords.words('english'))"
      ],
      "metadata": {
        "id": "OFZqk4rFdjRS"
      },
      "execution_count": 75,
      "outputs": []
    },
    {
      "cell_type": "code",
      "source": [
        "def tokenize(text):\n",
        "    tokens = tokenizer.tokenize(text.lower())\n",
        "    return [word for word in tokens if word not in english_stops and len(word) > 2]"
      ],
      "metadata": {
        "id": "i5O7CeTndniQ"
      },
      "execution_count": 76,
      "outputs": []
    },
    {
      "cell_type": "code",
      "source": [
        "# 카테고리별 토큰화\n",
        "category_to_tokenized_texts = {}\n",
        "for category in df['category'].unique():\n",
        "    texts = df[df['category'] == category]['content'].dropna().tolist()\n",
        "    tokenized = [tokenize(text) for text in texts]\n",
        "    tokenized = [t for t in tokenized if len(t) > 0]  # 빈 문서 제거\n",
        "    category_to_tokenized_texts[category] = tokenized\n"
      ],
      "metadata": {
        "id": "JzKS-cKzZr_U"
      },
      "execution_count": 77,
      "outputs": []
    },
    {
      "cell_type": "code",
      "source": [
        "# 카테고리별 LDA 모델 학습 및 주제 출력\n",
        "from gensim.models import LdaModel\n",
        "from gensim.corpora.dictionary import Dictionary\n",
        "\n",
        "for cat, texts in category_to_tokenized_texts.items():\n",
        "    print(f\"\\n'{cat}'은(는) 주제가\")  # 카테고리 이름 출력\n",
        "\n",
        "    dictionary = Dictionary(texts)\n",
        "    dictionary.filter_extremes(keep_n=3000, no_below=2, no_above=0.7)\n",
        "    corpus = [dictionary.doc2bow(text) for text in texts]\n",
        "\n",
        "    if len(dictionary) == 0:\n",
        "        print(\"유효한 단어 부족\")\n",
        "        continue\n",
        "\n",
        "    model = LdaModel(corpus=corpus, id2word=dictionary,\n",
        "                     passes=10, num_topics=1, random_state=7)\n",
        "\n",
        "    topic_words = model.show_topic(0, topn=20)  # topic 20개\n",
        "    words_only = [word for word, _ in topic_words]\n",
        "    print(\", \".join(words_only))\n",
        "\n"
      ],
      "metadata": {
        "colab": {
          "base_uri": "https://localhost:8080/"
        },
        "id": "E0ZUvigWTIRE",
        "outputId": "8615931f-9c13-4b5c-be70-cc068fae750d"
      },
      "execution_count": 78,
      "outputs": [
        {
          "output_type": "stream",
          "name": "stdout",
          "text": [
            "\n",
            "'반려동물'은(는) 주제가\n",
            "있습니다, 합니다, 생명을, 했습니다, 강력한, 없습니다, 그리고, 반려동물, 강아지를, 이렇게, 어떻게, 동물이, 고양이, 주십시오, 안됩니다, 돌아오는, 부탁드립니다, 도와주세요, 강아지, 키우는\n",
            "\n",
            "'경제민주화'은(는) 주제가\n",
            "있습니다, 공매도, 합니다, 대한민국, 주식을, 시스템을, 공매도를, 없습니다, 있는데, 그리고, 공매도는, 그러나, 이렇게, 어떻게, 내용이, 것입니다, 정부의, 그런데, 됩니다, 공정한\n",
            "\n",
            "'교통/건축/국토'은(는) 주제가\n",
            "합니다, 분양가, 것입니다, 아파트, 없습니다, 내용이, 하지만, 재건축, 그리고, 이렇게, 게시물의, 요건에, 관리자에, 수정되었습니다, 위배되어, 신도시, 바랍니다, 국민의, 2019, 이러한\n",
            "\n",
            "'행정'은(는) 주제가\n",
            "있습니다, 합니다, 입니다, 대한민국, 내용이, 게시물의, 관리자에, 수정되었습니다, 위배되어, 요건에, 그리고, 그런데, 되었습니다, 것입니다, 2019년, 2019, 하지만, 사람이, 아니라, 국민의\n",
            "\n",
            "'정치개혁'은(는) 주제가\n",
            "있습니다, 문재인, 합니다, 그리고, 대한민국, 국민의, 것입니다, 국회에서, 공수처, 하지만, 생각합니다, 내용이, 대한민국에, 바랍니다, 게시물의, 청문회, 수정되었습니다, 요건에, 관리자에, 위배되어\n",
            "\n",
            "'기타'은(는) 주제가\n",
            "있습니다, 합니다, 그리고, 했습니다, 하지만, 이렇게, 내용이, 것입니다, 요건에, 수정되었습니다, 게시물의, 위배되어, 관리자에, 어떻게, 되었습니다, 하였습니다, 그러나, 전화를, 입니다, 없습니다\n",
            "\n",
            "'문화/예술/체육/언론'은(는) 주제가\n",
            "있습니다, 합니다, 생각합니다, 게시물의, 내용이, 요건에, 관리자에, 수정되었습니다, 위배되어, 것입니다, 그리고, 대한민국, 하지만, 없습니다, 2019년, 했습니다, 경기를, 이러한, 상황을, 되었습니다\n",
            "\n",
            "'보건복지'은(는) 주제가\n",
            "합니다, 그리고, 입니다, 것입니다, 없습니다, 때문에, 했습니다, 전화를, 어떻게, 하지만, 이렇게, 되었습니다, 않습니다, 그런데, 그렇게, 아니라, 하였고, 있도록, 있다고, 엄마가\n",
            "\n",
            "'안전/환경'은(는) 주제가\n",
            "있습니다, 합니다, 내용이, 그리고, 없습니다, 게시물의, 위배되어, 수정되었습니다, 하지만, 요건에, 관리자에, 것입니다, 때문에, 방사능, 아니라, 했습니다, 인하여, 어린이, 불구하고, 있으며\n",
            "\n",
            "'외교/통일/국방'은(는) 주제가\n",
            "있습니다, 일본의, 합니다, 것입니다, 일본은, 대한민국, 일본이, 그리고, 생각합니다, 우리가, 해병대, corea, 이러한, korea, 국민의, 위안부, 우리의, 문재인, 일본을, 없습니다\n",
            "\n",
            "'농산어촌'은(는) 주제가\n",
            "합니다, 것입니다, 하지만, 이렇게, 내용이, 생각합니다, 것으로, 되었습니다, 사람이, 바랍니다, 없습니다, 요건에, 수정되었습니다, 어떻게, 게시물의, 있도록, 있다고, 이러한, 있으며, 농산물의\n",
            "\n",
            "'육아/교육'은(는) 주제가\n",
            "합니다, 아이의, 것입니다, 아이가, 그리고, 아이를, 하였습니다, 없습니다, 있도록, 하지만, 아니라, 했습니다, 교육부, 이렇게, 못하는, 어린이집, 되었습니다, 학교에서, 생각합니다, 어떻게\n",
            "\n",
            "'인권/성평등'은(는) 주제가\n",
            "있습니다, 합니다, 그리고, 피해를, 피의자, 하였습니다, 했습니다, 것입니다, 사람이, 오히려, 내용이, 위배되어, 게시물의, 수정되었습니다, 요건에, 관리자에, 하지만, 리얼돌, 그런데, 이유로\n",
            "\n",
            "'미래'은(는) 주제가\n",
            "있습니다, 합니다, 식민지, 것입니다, 역사적, 것이다, 그러나, 입니다, 이렇게, 그리고, 학생들이, 없습니다, 미래를, 생각합니다, 아니라, 됩니다, 아닙니다, 앞으로, 무조건, https\n",
            "\n",
            "'성장동력'은(는) 주제가\n",
            "합니다, 일본의, 정부의, 우리가, 바랍니다, 만들어, 시스템을, 진정한, 생각합니다, 청원합니다, 있습니다, 시간이, 필요합니다, 문제를, 기대어, 것으로, 문재인, 주시기, 경제가, 기술자립의\n",
            "\n",
            "'일자리'은(는) 주제가\n",
            "합니다, 하지만, 이러한, 불구하고, 관리자에, 게시물의, 한다고, 그리고, 내용이, 위배되어, 요건에, 수정되었습니다, 때문에, 아니라, 입니다, 됩니다, 있도록, 이렇게, 되었습니다, 있다고\n",
            "\n",
            "'저출산/고령화대책'은(는) 주제가\n",
            "유효한 단어 부족\n"
          ]
        }
      ]
    },
    {
      "cell_type": "code",
      "source": [
        "from gensim.models import CoherenceModel\n",
        "import matplotlib.pyplot as plt\n",
        "%matplotlib inline\n",
        "\n",
        "def show_coherence(texts, start=6, end=15, passes=5):\n",
        "    iter_num = []\n",
        "    coh_value = []\n",
        "\n",
        "    for num_topics in range(start, end + 1):\n",
        "        dictionary = Dictionary(texts)\n",
        "        dictionary.filter_extremes(keep_n=3000, no_below=2, no_above=0.7)\n",
        "        corpus = [dictionary.doc2bow(text) for text in texts]\n",
        "\n",
        "        if len(dictionary) == 0 or len(corpus) == 0:\n",
        "            print(f\"토픽 {num_topics}: 유효한 사전/코퍼스 없음\")\n",
        "            continue\n",
        "\n",
        "        lda = LdaModel(corpus=corpus, id2word=dictionary,\n",
        "                       passes=passes, num_topics=num_topics, random_state=7)\n",
        "\n",
        "        cm = CoherenceModel(model=lda, texts=texts,\n",
        "                            dictionary=dictionary, coherence='c_v')\n",
        "        coherence = cm.get_coherence()\n",
        "        iter_num.append(num_topics)\n",
        "        coh_value.append(coherence)\n",
        "\n",
        "        print(f\"num_topics: {num_topics}, coherence: {coherence:.4f}\")\n",
        "\n",
        "    # 그래프 출력\n",
        "    plt.plot(iter_num, coh_value, 'r--')\n",
        "    plt.xlabel(\"Number of Topics\")\n",
        "    plt.ylabel(\"Coherence Score\")\n",
        "    plt.title(\"Topic Coherence by Number of Topics\")\n",
        "    plt.show()\n",
        "\n",
        "    # 최고 coherence를 준 토픽 수 반환\n",
        "    if coh_value:\n",
        "        best_num = iter_num[coh_value.index(max(coh_value))]\n",
        "        print(f\"최적 토픽 수: {best_num}\")\n",
        "        return best_num\n",
        "    else:\n",
        "        print(\"유효한 coherence 계산 불가\")\n",
        "        return None\n"
      ],
      "metadata": {
        "id": "bX5pm9S_gBU8"
      },
      "execution_count": 81,
      "outputs": []
    },
    {
      "cell_type": "code",
      "source": [
        "# '문화/예술/체육/언론' 카테고리의 응집도 확인\n",
        "texts = category_to_tokenized_texts[\"문화/예술/체육/언론\"]\n",
        "best_topic_num = show_coherence(texts, start=6, end=15)"
      ],
      "metadata": {
        "colab": {
          "base_uri": "https://localhost:8080/",
          "height": 873
        },
        "id": "MBQ2oK90gDyi",
        "outputId": "25f3abf8-89cc-4671-cd9a-e4d84c774f7c"
      },
      "execution_count": 82,
      "outputs": [
        {
          "output_type": "stream",
          "name": "stderr",
          "text": [
            "WARNING:gensim.models.ldamodel:too few updates, training might not converge; consider increasing the number of passes or iterations to improve accuracy\n",
            "WARNING:gensim.models.ldamodel:too few updates, training might not converge; consider increasing the number of passes or iterations to improve accuracy\n"
          ]
        },
        {
          "output_type": "stream",
          "name": "stdout",
          "text": [
            "num_topics: 6, coherence: 0.3179\n"
          ]
        },
        {
          "output_type": "stream",
          "name": "stderr",
          "text": [
            "WARNING:gensim.models.ldamodel:too few updates, training might not converge; consider increasing the number of passes or iterations to improve accuracy\n"
          ]
        },
        {
          "output_type": "stream",
          "name": "stdout",
          "text": [
            "num_topics: 7, coherence: 0.3560\n"
          ]
        },
        {
          "output_type": "stream",
          "name": "stderr",
          "text": [
            "WARNING:gensim.models.ldamodel:too few updates, training might not converge; consider increasing the number of passes or iterations to improve accuracy\n"
          ]
        },
        {
          "output_type": "stream",
          "name": "stdout",
          "text": [
            "num_topics: 8, coherence: 0.3551\n"
          ]
        },
        {
          "output_type": "stream",
          "name": "stderr",
          "text": [
            "WARNING:gensim.models.ldamodel:too few updates, training might not converge; consider increasing the number of passes or iterations to improve accuracy\n"
          ]
        },
        {
          "output_type": "stream",
          "name": "stdout",
          "text": [
            "num_topics: 9, coherence: 0.3687\n"
          ]
        },
        {
          "output_type": "stream",
          "name": "stderr",
          "text": [
            "WARNING:gensim.models.ldamodel:too few updates, training might not converge; consider increasing the number of passes or iterations to improve accuracy\n"
          ]
        },
        {
          "output_type": "stream",
          "name": "stdout",
          "text": [
            "num_topics: 10, coherence: 0.3712\n"
          ]
        },
        {
          "output_type": "stream",
          "name": "stderr",
          "text": [
            "WARNING:gensim.models.ldamodel:too few updates, training might not converge; consider increasing the number of passes or iterations to improve accuracy\n"
          ]
        },
        {
          "output_type": "stream",
          "name": "stdout",
          "text": [
            "num_topics: 11, coherence: 0.4024\n"
          ]
        },
        {
          "output_type": "stream",
          "name": "stderr",
          "text": [
            "WARNING:gensim.models.ldamodel:too few updates, training might not converge; consider increasing the number of passes or iterations to improve accuracy\n"
          ]
        },
        {
          "output_type": "stream",
          "name": "stdout",
          "text": [
            "num_topics: 12, coherence: 0.3926\n"
          ]
        },
        {
          "output_type": "stream",
          "name": "stderr",
          "text": [
            "WARNING:gensim.models.ldamodel:too few updates, training might not converge; consider increasing the number of passes or iterations to improve accuracy\n"
          ]
        },
        {
          "output_type": "stream",
          "name": "stdout",
          "text": [
            "num_topics: 13, coherence: 0.4140\n"
          ]
        },
        {
          "output_type": "stream",
          "name": "stderr",
          "text": [
            "WARNING:gensim.models.ldamodel:too few updates, training might not converge; consider increasing the number of passes or iterations to improve accuracy\n"
          ]
        },
        {
          "output_type": "stream",
          "name": "stdout",
          "text": [
            "num_topics: 14, coherence: 0.3876\n",
            "num_topics: 15, coherence: 0.3754\n"
          ]
        },
        {
          "output_type": "display_data",
          "data": {
            "text/plain": [
              "<Figure size 640x480 with 1 Axes>"
            ],
            "image/png": "[encoded data removed]"
          },
          "metadata": {}
        },
        {
          "output_type": "stream",
          "name": "stdout",
          "text": [
            "최적 토픽 수: 13\n"
          ]
        }
      ]
    }
  ]
}