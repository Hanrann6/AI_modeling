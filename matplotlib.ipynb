{
  "cells": [
    {
      "cell_type": "markdown",
      "id": "yDWc0sx-l_eC",
      "metadata": {
        "id": "yDWc0sx-l_eC"
      },
      "source": [
        "# **형태소 분석**\n",
        "txt 파일 꺼삐딴 리(전광용), 화수분(전영택)에서 막대그래프나 3차원 그래프 등 다양한 품사표지의 분포 나타내보기.\n",
        "전 품사를 다 하지 말고 체언, 용언, 조사별로 각각 비교하기."
      ]
    },
    {
      "cell_type": "code",
      "execution_count": 12,
      "id": "b38c5ff9-d463-4598-909d-303b8c8af7a4",
      "metadata": {
        "colab": {
          "base_uri": "https://localhost:8080/"
        },
        "id": "b38c5ff9-d463-4598-909d-303b8c8af7a4",
        "outputId": "9731517c-f579-49b4-d4eb-fd132f163edf"
      },
      "outputs": [
        {
          "name": "stdout",
          "output_type": "stream",
          "text": [
            "Collecting kiwipiepy\n",
            "  Downloading kiwipiepy-0.21.0-cp311-cp311-manylinux_2_17_x86_64.manylinux2014_x86_64.whl.metadata (1.3 kB)\n",
            "Collecting kiwipiepy_model<0.22,>=0.21 (from kiwipiepy)\n",
            "  Downloading kiwipiepy_model-0.21.0.tar.gz (35.5 MB)\n",
            "\u001b[2K     \u001b[90m━━━━━━━━━━━━━━━━━━━━━━━━━━━━━━━━━━━━━━━━\u001b[0m \u001b[32m35.5/35.5 MB\u001b[0m \u001b[31m68.2 MB/s\u001b[0m eta \u001b[36m0:00:00\u001b[0m\n",
            "\u001b[?25h  Preparing metadata (setup.py) ... \u001b[?25l\u001b[?25hdone\n",
            "Requirement already satisfied: numpy in /usr/local/lib/python3.11/dist-packages (from kiwipiepy) (2.0.2)\n",
            "Requirement already satisfied: tqdm in /usr/local/lib/python3.11/dist-packages (from kiwipiepy) (4.67.1)\n",
            "Downloading kiwipiepy-0.21.0-cp311-cp311-manylinux_2_17_x86_64.manylinux2014_x86_64.whl (7.6 MB)\n",
            "\u001b[2K   \u001b[90m━━━━━━━━━━━━━━━━━━━━━━━━━━━━━━━━━━━━━━━━\u001b[0m \u001b[32m7.6/7.6 MB\u001b[0m \u001b[31m149.9 MB/s\u001b[0m eta \u001b[36m0:00:00\u001b[0m\n",
            "\u001b[?25hBuilding wheels for collected packages: kiwipiepy_model\n",
            "  Building wheel for kiwipiepy_model (setup.py) ... \u001b[?25l\u001b[?25hdone\n",
            "  Created wheel for kiwipiepy_model: filename=kiwipiepy_model-0.21.0-py3-none-any.whl size=35593192 sha256=301f90d917ecaf1a40e2aa4ff1c58e753a51a388ec236a38cd571a8e626934c3\n",
            "  Stored in directory: /root/.cache/pip/wheels/b0/16/3d/95053ab5298f0f0f22ffea6de0200b6f24bffb73cab4c1a828\n",
            "Successfully built kiwipiepy_model\n",
            "Installing collected packages: kiwipiepy_model, kiwipiepy\n",
            "Successfully installed kiwipiepy-0.21.0 kiwipiepy_model-0.21.0\n"
          ]
        }
      ],
      "source": [
        "!pip install kiwipiepy #kiwi 설치"
      ]
    },
    {
      "cell_type": "code",
      "execution_count": 6,
      "id": "7KQKNJDnbvnx",
      "metadata": {
        "colab": {
          "base_uri": "https://localhost:8080/",
          "height": 111
        },
        "id": "7KQKNJDnbvnx",
        "outputId": "b44f5b1f-bf0d-459c-a346-2ba0b5dcd4fd"
      },
      "outputs": [
        {
          "data": {
            "text/html": [
              "\n",
              "     <input type=\"file\" id=\"files-373ac46c-3886-46ca-b520-d32b66f74ebd\" name=\"files[]\" multiple disabled\n",
              "        style=\"border:none\" />\n",
              "     <output id=\"result-373ac46c-3886-46ca-b520-d32b66f74ebd\">\n",
              "      Upload widget is only available when the cell has been executed in the\n",
              "      current browser session. Please rerun this cell to enable.\n",
              "      </output>\n",
              "      <script>// Copyright 2017 Google LLC\n",
              "//\n",
              "// Licensed under the Apache License, Version 2.0 (the \"License\");\n",
              "// you may not use this file except in compliance with the License.\n",
              "// You may obtain a copy of the License at\n",
              "//\n",
              "//      http://www.apache.org/licenses/LICENSE-2.0\n",
              "//\n",
              "// Unless required by applicable law or agreed to in writing, software\n",
              "// distributed under the License is distributed on an \"AS IS\" BASIS,\n",
              "// WITHOUT WARRANTIES OR CONDITIONS OF ANY KIND, either express or implied.\n",
              "// See the License for the specific language governing permissions and\n",
              "// limitations under the License.\n",
              "\n",
              "/**\n",
              " * @fileoverview Helpers for google.colab Python module.\n",
              " */\n",
              "(function(scope) {\n",
              "function span(text, styleAttributes = {}) {\n",
              "  const element = document.createElement('span');\n",
              "  element.textContent = text;\n",
              "  for (const key of Object.keys(styleAttributes)) {\n",
              "    element.style[key] = styleAttributes[key];\n",
              "  }\n",
              "  return element;\n",
              "}\n",
              "\n",
              "// Max number of bytes which will be uploaded at a time.\n",
              "const MAX_PAYLOAD_SIZE = 100 * 1024;\n",
              "\n",
              "function _uploadFiles(inputId, outputId) {\n",
              "  const steps = uploadFilesStep(inputId, outputId);\n",
              "  const outputElement = document.getElementById(outputId);\n",
              "  // Cache steps on the outputElement to make it available for the next call\n",
              "  // to uploadFilesContinue from Python.\n",
              "  outputElement.steps = steps;\n",
              "\n",
              "  return _uploadFilesContinue(outputId);\n",
              "}\n",
              "\n",
              "// This is roughly an async generator (not supported in the browser yet),\n",
              "// where there are multiple asynchronous steps and the Python side is going\n",
              "// to poll for completion of each step.\n",
              "// This uses a Promise to block the python side on completion of each step,\n",
              "// then passes the result of the previous step as the input to the next step.\n",
              "function _uploadFilesContinue(outputId) {\n",
              "  const outputElement = document.getElementById(outputId);\n",
              "  const steps = outputElement.steps;\n",
              "\n",
              "  const next = steps.next(outputElement.lastPromiseValue);\n",
              "  return Promise.resolve(next.value.promise).then((value) => {\n",
              "    // Cache the last promise value to make it available to the next\n",
              "    // step of the generator.\n",
              "    outputElement.lastPromiseValue = value;\n",
              "    return next.value.response;\n",
              "  });\n",
              "}\n",
              "\n",
              "/**\n",
              " * Generator function which is called between each async step of the upload\n",
              " * process.\n",
              " * @param {string} inputId Element ID of the input file picker element.\n",
              " * @param {string} outputId Element ID of the output display.\n",
              " * @return {!Iterable<!Object>} Iterable of next steps.\n",
              " */\n",
              "function* uploadFilesStep(inputId, outputId) {\n",
              "  const inputElement = document.getElementById(inputId);\n",
              "  inputElement.disabled = false;\n",
              "\n",
              "  const outputElement = document.getElementById(outputId);\n",
              "  outputElement.innerHTML = '';\n",
              "\n",
              "  const pickedPromise = new Promise((resolve) => {\n",
              "    inputElement.addEventListener('change', (e) => {\n",
              "      resolve(e.target.files);\n",
              "    });\n",
              "  });\n",
              "\n",
              "  const cancel = document.createElement('button');\n",
              "  inputElement.parentElement.appendChild(cancel);\n",
              "  cancel.textContent = 'Cancel upload';\n",
              "  const cancelPromise = new Promise((resolve) => {\n",
              "    cancel.onclick = () => {\n",
              "      resolve(null);\n",
              "    };\n",
              "  });\n",
              "\n",
              "  // Wait for the user to pick the files.\n",
              "  const files = yield {\n",
              "    promise: Promise.race([pickedPromise, cancelPromise]),\n",
              "    response: {\n",
              "      action: 'starting',\n",
              "    }\n",
              "  };\n",
              "\n",
              "  cancel.remove();\n",
              "\n",
              "  // Disable the input element since further picks are not allowed.\n",
              "  inputElement.disabled = true;\n",
              "\n",
              "  if (!files) {\n",
              "    return {\n",
              "      response: {\n",
              "        action: 'complete',\n",
              "      }\n",
              "    };\n",
              "  }\n",
              "\n",
              "  for (const file of files) {\n",
              "    const li = document.createElement('li');\n",
              "    li.append(span(file.name, {fontWeight: 'bold'}));\n",
              "    li.append(span(\n",
              "        `(${file.type || 'n/a'}) - ${file.size} bytes, ` +\n",
              "        `last modified: ${\n",
              "            file.lastModifiedDate ? file.lastModifiedDate.toLocaleDateString() :\n",
              "                                    'n/a'} - `));\n",
              "    const percent = span('0% done');\n",
              "    li.appendChild(percent);\n",
              "\n",
              "    outputElement.appendChild(li);\n",
              "\n",
              "    const fileDataPromise = new Promise((resolve) => {\n",
              "      const reader = new FileReader();\n",
              "      reader.onload = (e) => {\n",
              "        resolve(e.target.result);\n",
              "      };\n",
              "      reader.readAsArrayBuffer(file);\n",
              "    });\n",
              "    // Wait for the data to be ready.\n",
              "    let fileData = yield {\n",
              "      promise: fileDataPromise,\n",
              "      response: {\n",
              "        action: 'continue',\n",
              "      }\n",
              "    };\n",
              "\n",
              "    // Use a chunked sending to avoid message size limits. See b/62115660.\n",
              "    let position = 0;\n",
              "    do {\n",
              "      const length = Math.min(fileData.byteLength - position, MAX_PAYLOAD_SIZE);\n",
              "      const chunk = new Uint8Array(fileData, position, length);\n",
              "      position += length;\n",
              "\n",
              "      const base64 = btoa(String.fromCharCode.apply(null, chunk));\n",
              "      yield {\n",
              "        response: {\n",
              "          action: 'append',\n",
              "          file: file.name,\n",
              "          data: base64,\n",
              "        },\n",
              "      };\n",
              "\n",
              "      let percentDone = fileData.byteLength === 0 ?\n",
              "          100 :\n",
              "          Math.round((position / fileData.byteLength) * 100);\n",
              "      percent.textContent = `${percentDone}% done`;\n",
              "\n",
              "    } while (position < fileData.byteLength);\n",
              "  }\n",
              "\n",
              "  // All done.\n",
              "  yield {\n",
              "    response: {\n",
              "      action: 'complete',\n",
              "    }\n",
              "  };\n",
              "}\n",
              "\n",
              "scope.google = scope.google || {};\n",
              "scope.google.colab = scope.google.colab || {};\n",
              "scope.google.colab._files = {\n",
              "  _uploadFiles,\n",
              "  _uploadFilesContinue,\n",
              "};\n",
              "})(self);\n",
              "</script> "
            ],
            "text/plain": [
              "<IPython.core.display.HTML object>"
            ]
          },
          "metadata": {},
          "output_type": "display_data"
        },
        {
          "name": "stdout",
          "output_type": "stream",
          "text": [
            "Saving 꺼삐딴 리(전광용).txt to 꺼삐딴 리(전광용).txt\n",
            "Saving 화수분(전영택).txt to 화수분(전영택).txt\n"
          ]
        }
      ],
      "source": [
        "#파일 업로드 -> content에 올라감\n",
        "from google.colab import files\n",
        "uploaded = files.upload()"
      ]
    },
    {
      "cell_type": "code",
      "execution_count": 43,
      "id": "draTwhtIc0qn",
      "metadata": {
        "id": "draTwhtIc0qn"
      },
      "outputs": [],
      "source": [
        "#파일 열기\n",
        "with open('꺼삐딴 리(전광용).txt', 'r', encoding='utf-8') as f:\n",
        "    text1 = f.read()\n",
        "\n",
        "with open('화수분(전영택).txt', 'r', encoding='utf-8') as f:\n",
        "    text2 = f.read()"
      ]
    },
    {
      "cell_type": "code",
      "execution_count": 44,
      "id": "omTr7wysdKlj",
      "metadata": {
        "id": "omTr7wysdKlj"
      },
      "outputs": [],
      "source": [
        "from kiwipiepy import Kiwi\n",
        "kiwi = Kiwi() #키위 가져오기"
      ]
    },
    {
      "cell_type": "code",
      "execution_count": 45,
      "id": "27bYVzaMdyh3",
      "metadata": {
        "id": "27bYVzaMdyh3"
      },
      "outputs": [],
      "source": [
        "analysis1 = kiwi.analyze(text1) #파일 분석하기\n",
        "analysis2 = kiwi.analyze(text2)"
      ]
    },
    {
      "cell_type": "code",
      "execution_count": 40,
      "id": "hMFShgq1d2TB",
      "metadata": {
        "id": "hMFShgq1d2TB"
      },
      "outputs": [],
      "source": [
        "def extract_pos(analysis_result, pos_prefix):\n",
        "    words = []\n",
        "    for sentence in analysis_result:\n",
        "        for token in sentence[0]:\n",
        "            if token.tag.startswith(pos_prefix):\n",
        "                words.append(token.form)\n",
        "    return words\n"
      ]
    },
    {
      "cell_type": "code",
      "execution_count": 29,
      "id": "LigwnB8reVXz",
      "metadata": {
        "id": "LigwnB8reVXz"
      },
      "outputs": [],
      "source": [
        "cheon1 = extract_pos(analysis1, 'N')  # 체언\n",
        "yong1 = extract_pos(analysis1, 'V')  # 용언\n",
        "josa1 = extract_pos(analysis1, 'J')  # 조사\n",
        "\n",
        "cheon2 = extract_pos(analysis2, 'N')\n",
        "yong2 = extract_pos(analysis2, 'V')\n",
        "josa2 = extract_pos(analysis2, 'J')\n",
        "\n",
        "# 카운트\n",
        "from collections import Counter\n",
        "c_cheon1, c_cheon2 = Counter(cheon1), Counter(cheon2)\n",
        "c_yong1, c_yong2 = Counter(yong1), Counter(yong2)\n",
        "c_josa1, c_josa2 = Counter(josa1), Counter(josa2)"
      ]
    },
    {
      "cell_type": "code",
      "execution_count": 46,
      "id": "TSDy0_k0fnvg",
      "metadata": {
        "colab": {
          "base_uri": "https://localhost:8080/",
          "height": 539
        },
        "id": "TSDy0_k0fnvg",
        "outputId": "d2d15c52-2980-4fe7-9199-b0ab409b29d6"
      },
      "outputs": [
        {
          "data": {
            "image/png": "[encoded data removed]",
            "text/plain": [
              "<Figure size 640x480 with 1 Axes>"
            ]
          },
          "metadata": {},
          "output_type": "display_data"
        },
        {
          "name": "stdout",
          "output_type": "stream",
          "text": [
            "N1 = 그\n",
            "N2 = 것\n",
            "N3 = 이인국\n",
            "N4 = 박사\n",
            "N5 = 자기\n"
          ]
        }
      ],
      "source": [
        "import matplotlib.pyplot as plt\n",
        "import numpy as np\n",
        "\n",
        "# 꺼삐딴 리의 체언 상위 5개를 화수분과 비교하기\n",
        "top = 5\n",
        "top_cheon = [word for word, _ in c_cheon1.most_common(top)]\n",
        "labels = [f'N{i+1}' for i in range(top)] #한글 깨져서 영어로 대체\n",
        "values1 = [c_cheon1[word] for word in top_cheon]\n",
        "values2 = [c_cheon2[word] for word in top_cheon]\n",
        "\n",
        "x = np.arange(len(labels))\n",
        "plt.bar(x - 0.15, values1, width=0.3, color='blue', label='Kkappittanri')\n",
        "plt.bar(x + 0.15, values2, width=0.3, color='red', label='Hwasoobun')\n",
        "plt.xticks(x, labels)\n",
        "plt.title('Top 5 Nouns') #상위 5개 체언\n",
        "plt.legend()\n",
        "plt.show()\n",
        "\n",
        "for tag, word in zip(labels, top_cheon):\n",
        "    print(f'{tag} = {word}')\n",
        "\n"
      ]
    },
    {
      "cell_type": "code",
      "execution_count": 42,
      "id": "qyalZdKIiUUT",
      "metadata": {
        "colab": {
          "base_uri": "https://localhost:8080/",
          "height": 487
        },
        "id": "qyalZdKIiUUT",
        "outputId": "64fe2ddf-853a-4a53-e9ba-f53c95790256"
      },
      "outputs": [
        {
          "data": {
            "image/png": "[encoded data removed]",
            "text/plain": [
              "<Figure size 640x480 with 1 Axes>"
            ]
          },
          "metadata": {},
          "output_type": "display_data"
        }
      ],
      "source": [
        "# 전체 token 중 체언의 비율 그래프\n",
        "import matplotlib.pyplot as plt\n",
        "import numpy as np\n",
        "\n",
        "# 전체 token 수\n",
        "total_tokens1 = sum(len(sent[0]) for sent in analysis1)\n",
        "total_tokens2 = sum(len(sent[0]) for sent in analysis2)\n",
        "\n",
        "# 체언 개수\n",
        "total_cheon1 = sum(c_cheon1.values())\n",
        "total_cheon2 = sum(c_cheon2.values())\n",
        "\n",
        "# 비율 계산\n",
        "rate_cheon1 = total_cheon1 / total_tokens1 * 100\n",
        "rate_cheon2 = total_cheon2 / total_tokens2 * 100\n",
        "\n",
        "#그래프\n",
        "import matplotlib.pyplot as plt\n",
        "import numpy as np\n",
        "\n",
        "x = np.arange(2)\n",
        "texts = ['Kkappittanri', 'Hwasoobun']\n",
        "rates = [rate_cheon1, rate_cheon2]\n",
        "\n",
        "plt.bar(x, rates, color=['blue', 'red'])\n",
        "plt.xticks(x, texts)\n",
        "plt.ylabel('Noun Ratio (%)')\n",
        "plt.title('Noun Ratio')\n",
        "plt.tight_layout()\n",
        "plt.show()\n"
      ]
    },
    {
      "cell_type": "code",
      "execution_count": 37,
      "id": "2gpv25wKg8KE",
      "metadata": {
        "colab": {
          "base_uri": "https://localhost:8080/",
          "height": 487
        },
        "id": "2gpv25wKg8KE",
        "outputId": "21beb715-2640-4883-f303-6e0623e8c571"
      },
      "outputs": [
        {
          "data": {
            "image/png": "[encoded data removed]",
            "text/plain": [
              "<Figure size 640x480 with 1 Axes>"
            ]
          },
          "metadata": {},
          "output_type": "display_data"
        }
      ],
      "source": [
        "# 전체 용언 개수 그래프\n",
        "\n",
        "import matplotlib.pyplot as plt\n",
        "import numpy as np\n",
        "\n",
        "total_yong1 = sum(c_yong1.values())\n",
        "total_yong2 = sum(c_yong2.values())\n",
        "\n",
        "x = np.arange(2)\n",
        "texts = ['Kkappittanri', 'Hwasoobun']\n",
        "counts = [total_yong1, total_yong2]\n",
        "\n",
        "plt.bar(x, counts, color=['blue', 'red'])\n",
        "plt.xticks(x, texts)\n",
        "plt.title('Total Verb Count')\n",
        "plt.ylabel('Count')\n",
        "plt.tight_layout()\n",
        "plt.show()"
      ]
    },
    {
      "cell_type": "code",
      "execution_count": 47,
      "id": "xT5qpzzeh9s1",
      "metadata": {
        "colab": {
          "base_uri": "https://localhost:8080/",
          "height": 487
        },
        "id": "xT5qpzzeh9s1",
        "outputId": "96893681-29ac-4167-b166-1b0d39a25b8e"
      },
      "outputs": [
        {
          "data": {
            "image/png": "[encoded data removed]",
            "text/plain": [
              "<Figure size 640x480 with 1 Axes>"
            ]
          },
          "metadata": {},
          "output_type": "display_data"
        }
      ],
      "source": [
        "import matplotlib.pyplot as plt\n",
        "import numpy as np\n",
        "\n",
        "# 전체 조사 개수 비교\n",
        "total_josa1 = sum(c_josa1.values())\n",
        "total_josa2 = sum(c_josa2.values())\n",
        "\n",
        "x = np.arange(2)\n",
        "texts = ['Kkappittanri', 'Hwasoobun']\n",
        "counts = [total_josa1, total_josa2]\n",
        "\n",
        "plt.bar(x, counts, color=['blue', 'red'])\n",
        "plt.xticks(x, texts)\n",
        "plt.title('Total Josa Count')\n",
        "plt.ylabel('Count')\n",
        "plt.tight_layout()\n",
        "plt.show()"
      ]
    }
  ],
  "metadata": {
    "colab": {
      "provenance": []
    },
    "kernelspec": {
      "display_name": "Python 3 (ipykernel)",
      "language": "python",
      "name": "python3"
    },
    "language_info": {
      "codemirror_mode": {
        "name": "ipython",
        "version": 3
      },
      "file_extension": ".py",
      "mimetype": "text/x-python",
      "name": "python",
      "nbconvert_exporter": "python",
      "pygments_lexer": "ipython3",
      "version": "3.12.3"
    }
  },
  "nbformat": 4,
  "nbformat_minor": 5
}
