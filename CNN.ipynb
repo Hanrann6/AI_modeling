{
  "cells": [
    {
      "cell_type": "markdown",
      "id": "77ebb1ab",
      "metadata": {
        "id": "77ebb1ab"
      },
      "source": [
        "# 패션 아이템 분류 Deep NeuralNet\n",
        "### 완전 연결 신명망"
      ]
    },
    {
      "cell_type": "markdown",
      "id": "abdba859",
      "metadata": {
        "id": "abdba859"
      },
      "source": [
        "70,000개의 이미지 중에서 60,000개는 신경망을 훈련하고 나머지 10,000는 신경망 성능을 테스트하고 평가하는데 사용"
      ]
    },
    {
      "cell_type": "code",
      "execution_count": 1,
      "id": "158a869a",
      "metadata": {
        "id": "158a869a"
      },
      "outputs": [],
      "source": [
        "import tensorflow as tf\n",
        "from tensorflow import keras\n",
        "import numpy as np\n",
        "import matplotlib.pyplot as plt\n",
        "from tensorflow.keras import datasets, layers, models"
      ]
    },
    {
      "cell_type": "code",
      "execution_count": 2,
      "id": "d066edcc",
      "metadata": {
        "colab": {
          "base_uri": "https://localhost:8080/"
        },
        "id": "d066edcc",
        "outputId": "b40cf009-29e6-4874-ad3f-b21cd6fc398c"
      },
      "outputs": [
        {
          "name": "stdout",
          "output_type": "stream",
          "text": [
            "Downloading data from https://storage.googleapis.com/tensorflow/tf-keras-datasets/train-labels-idx1-ubyte.gz\n",
            "\u001b[1m29515/29515\u001b[0m \u001b[32m━━━━━━━━━━━━━━━━━━━━\u001b[0m\u001b[37m\u001b[0m \u001b[1m0s\u001b[0m 0us/step\n",
            "Downloading data from https://storage.googleapis.com/tensorflow/tf-keras-datasets/train-images-idx3-ubyte.gz\n",
            "\u001b[1m26421880/26421880\u001b[0m \u001b[32m━━━━━━━━━━━━━━━━━━━━\u001b[0m\u001b[37m\u001b[0m \u001b[1m0s\u001b[0m 0us/step\n",
            "Downloading data from https://storage.googleapis.com/tensorflow/tf-keras-datasets/t10k-labels-idx1-ubyte.gz\n",
            "\u001b[1m5148/5148\u001b[0m \u001b[32m━━━━━━━━━━━━━━━━━━━━\u001b[0m\u001b[37m\u001b[0m \u001b[1m0s\u001b[0m 0us/step\n",
            "Downloading data from https://storage.googleapis.com/tensorflow/tf-keras-datasets/t10k-images-idx3-ubyte.gz\n",
            "\u001b[1m4422102/4422102\u001b[0m \u001b[32m━━━━━━━━━━━━━━━━━━━━\u001b[0m\u001b[37m\u001b[0m \u001b[1m0s\u001b[0m 0us/step\n"
          ]
        }
      ],
      "source": [
        "fashion_mnist = keras.datasets.fashion_mnist\n",
        "(train_images, train_labels), (test_images, test_labels) = fashion_mnist.load_data()"
      ]
    },
    {
      "cell_type": "code",
      "execution_count": 3,
      "id": "3dec52f9",
      "metadata": {
        "colab": {
          "base_uri": "https://localhost:8080/",
          "height": 448
        },
        "id": "3dec52f9",
        "outputId": "69acdf48-37e5-437a-db52-0645f6414a06"
      },
      "outputs": [
        {
          "data": {
            "text/plain": [
              "<matplotlib.image.AxesImage at 0x7d1458db6390>"
            ]
          },
          "execution_count": 3,
          "metadata": {},
          "output_type": "execute_result"
        },
        {
          "data": {
            "image/png": "[encoded data removed]",
            "text/plain": [
              "<Figure size 640x480 with 1 Axes>"
            ]
          },
          "metadata": {},
          "output_type": "display_data"
        }
      ],
      "source": [
        "plt.imshow(train_images[0])"
      ]
    },
    {
      "cell_type": "markdown",
      "id": "42015fa8",
      "metadata": {
        "id": "42015fa8"
      },
      "source": [
        "#### 이미지 픽셀값은 0에서 255 사이의 정수여서 이 상태로 직접 투입하면 안되고 반드시 0.0과 1.0 사이의 실수로 만들어서 정규화한다."
      ]
    },
    {
      "cell_type": "markdown",
      "id": "7q2Q6DVkU3kV",
      "metadata": {
        "id": "7q2Q6DVkU3kV"
      },
      "source": []
    },
    {
      "cell_type": "code",
      "execution_count": 4,
      "id": "07c8fe7b",
      "metadata": {
        "id": "07c8fe7b"
      },
      "outputs": [],
      "source": [
        "train_images = train_images / 255.0\n",
        "test_images = test_images / 255.0"
      ]
    },
    {
      "cell_type": "code",
      "execution_count": 6,
      "id": "aeb8314d",
      "metadata": {
        "id": "aeb8314d"
      },
      "outputs": [],
      "source": [
        "# CNN 입력 형식 (batch, 28, 28, 1)\n",
        "train_images = train_images.reshape(-1, 28, 28, 1)\n",
        "test_images = test_images.reshape(-1, 28, 28, 1)"
      ]
    },
    {
      "cell_type": "code",
      "execution_count": 7,
      "id": "P_yidOE_V13C",
      "metadata": {
        "colab": {
          "base_uri": "https://localhost:8080/"
        },
        "id": "P_yidOE_V13C",
        "outputId": "31923cc9-808f-4df5-a0ad-6d4a5bf060e2"
      },
      "outputs": [
        {
          "name": "stderr",
          "output_type": "stream",
          "text": [
            "/usr/local/lib/python3.11/dist-packages/keras/src/layers/convolutional/base_conv.py:107: UserWarning: Do not pass an `input_shape`/`input_dim` argument to a layer. When using Sequential models, prefer using an `Input(shape)` object as the first layer in the model instead.\n",
            "  super().__init__(activity_regularizer=activity_regularizer, **kwargs)\n"
          ]
        }
      ],
      "source": [
        "# CNN 모델 구성\n",
        "model = models.Sequential()\n",
        "model.add(layers.Conv2D(32, (3, 3), activation='relu', input_shape=(28, 28, 1)))\n",
        "model.add(layers.MaxPooling2D((2, 2)))\n",
        "model.add(layers.Conv2D(64, (3, 3), activation='relu'))\n",
        "model.add(layers.MaxPooling2D((2, 2)))\n",
        "model.add(layers.Flatten())\n",
        "model.add(layers.Dense(64, activation='relu'))\n",
        "model.add(layers.Dense(10, activation='softmax'))"
      ]
    },
    {
      "cell_type": "markdown",
      "id": "61e4dcce",
      "metadata": {
        "id": "61e4dcce"
      },
      "source": [
        "#### 손실값을 최소화하기 위해서 옵티마이저(최적화 모듈)를 사용하고, 적응적 학습을 수행하는 Adam 알고리즘을 사용한다."
      ]
    },
    {
      "cell_type": "code",
      "execution_count": 8,
      "id": "5ede25d4",
      "metadata": {
        "id": "5ede25d4"
      },
      "outputs": [],
      "source": [
        "model.compile(optimizer='adam',\n",
        "              loss='sparse_categorical_crossentropy',\n",
        "              metrics=['accuracy'])"
      ]
    },
    {
      "cell_type": "code",
      "execution_count": 10,
      "id": "1baad219",
      "metadata": {
        "colab": {
          "base_uri": "https://localhost:8080/"
        },
        "id": "1baad219",
        "outputId": "a9b54d27-6b26-4724-d3a1-f2634d813309"
      },
      "outputs": [
        {
          "name": "stdout",
          "output_type": "stream",
          "text": [
            "Epoch 1/5\n",
            "\u001b[1m1500/1500\u001b[0m \u001b[32m━━━━━━━━━━━━━━━━━━━━\u001b[0m\u001b[37m\u001b[0m \u001b[1m50s\u001b[0m 33ms/step - accuracy: 0.8877 - loss: 0.3061 - val_accuracy: 0.8967 - val_loss: 0.2814\n",
            "Epoch 2/5\n",
            "\u001b[1m1500/1500\u001b[0m \u001b[32m━━━━━━━━━━━━━━━━━━━━\u001b[0m\u001b[37m\u001b[0m \u001b[1m78s\u001b[0m 30ms/step - accuracy: 0.9030 - loss: 0.2628 - val_accuracy: 0.8981 - val_loss: 0.2743\n",
            "Epoch 3/5\n",
            "\u001b[1m1500/1500\u001b[0m \u001b[32m━━━━━━━━━━━━━━━━━━━━\u001b[0m\u001b[37m\u001b[0m \u001b[1m47s\u001b[0m 31ms/step - accuracy: 0.9159 - loss: 0.2333 - val_accuracy: 0.9078 - val_loss: 0.2569\n",
            "Epoch 4/5\n",
            "\u001b[1m1500/1500\u001b[0m \u001b[32m━━━━━━━━━━━━━━━━━━━━\u001b[0m\u001b[37m\u001b[0m \u001b[1m47s\u001b[0m 31ms/step - accuracy: 0.9223 - loss: 0.2067 - val_accuracy: 0.9053 - val_loss: 0.2558\n",
            "Epoch 5/5\n",
            "\u001b[1m1500/1500\u001b[0m \u001b[32m━━━━━━━━━━━━━━━━━━━━\u001b[0m\u001b[37m\u001b[0m \u001b[1m83s\u001b[0m 32ms/step - accuracy: 0.9297 - loss: 0.1881 - val_accuracy: 0.9098 - val_loss: 0.2492\n"
          ]
        },
        {
          "data": {
            "text/plain": [
              "<keras.src.callbacks.history.History at 0x7d1456cbe510>"
            ]
          },
          "execution_count": 10,
          "metadata": {},
          "output_type": "execute_result"
        }
      ],
      "source": [
        "# 성능 향상 관찰을 위해 검증 데이터 떼어놓음\n",
        "model.fit(train_images, train_labels, epochs=5, validation_split=0.2)"
      ]
    },
    {
      "cell_type": "code",
      "execution_count": 13,
      "id": "e8758d85",
      "metadata": {
        "colab": {
          "base_uri": "https://localhost:8080/"
        },
        "id": "e8758d85",
        "outputId": "3bd01fce-d53f-4173-f8d0-4dd1d3b17d7a"
      },
      "outputs": [
        {
          "name": "stdout",
          "output_type": "stream",
          "text": [
            "\u001b[1m313/313\u001b[0m \u001b[32m━━━━━━━━━━━━━━━━━━━━\u001b[0m\u001b[37m\u001b[0m \u001b[1m4s\u001b[0m 12ms/step - accuracy: 0.8981 - loss: 0.2804\n",
            "정확도: 0.8996999859809875\n"
          ]
        }
      ],
      "source": [
        "test_loss, test_acc = model.evaluate(test_images, test_labels)\n",
        "print('정확도:', test_acc)"
      ]
    },
    {
      "cell_type": "code",
      "execution_count": null,
      "id": "8e230cb3",
      "metadata": {
        "id": "8e230cb3"
      },
      "outputs": [],
      "source": []
    },
    {
      "cell_type": "markdown",
      "id": "7aebb7fe",
      "metadata": {
        "id": "7aebb7fe"
      },
      "source": [
        "## 위의 MLP 신경망을 바꾸어 CNN 방식으로 분류. 10개의 범주의 약 70,000개의 팬션 관련 이미지 해상도 28X28 인 경우에 CNN으로 구성해서 성능이 얼마나 향상하는지 확인."
      ]
    },
    {
      "cell_type": "markdown",
      "id": "xEj_ZWHwW-pY",
      "metadata": {
        "id": "xEj_ZWHwW-pY"
      },
      "source": [
        "기존의 MLP 모델은 테스트 데이터 기준으로 약 **84.97%**의 정확도를 보였다.  \n",
        "반면 CNN 모델을 구성하여 동일한 데이터셋에 대해 학습한 결과, 테스트 정확도가 약 **89.97% 수준으로 향상**되었다.\n",
        "\n",
        "이는 CNN이 이미지의 **공간적 구조(패턴, 경계 등)**를 잘 인식할 수 있기 때문이며,  \n",
        "단순히 픽셀을 펼쳐서 처리하는 MLP에 비해 **더 정교한 특성 추출이 가능하다는 장점**을 보여준다.\n",
        "\n",
        "따라서 이미지 분류 문제에서는 MLP보다 CNN이 확연히 더 우수한 성능을 발휘함을 확인할 수 있었다.\n"
      ]
    }
  ],
  "metadata": {
    "colab": {
      "provenance": []
    },
    "kernelspec": {
      "display_name": "Python 3 (ipykernel)",
      "language": "python",
      "name": "python3"
    },
    "language_info": {
      "codemirror_mode": {
        "name": "ipython",
        "version": 3
      },
      "file_extension": ".py",
      "mimetype": "text/x-python",
      "name": "python",
      "nbconvert_exporter": "python",
      "pygments_lexer": "ipython3",
      "version": "3.12.3"
    }
  },
  "nbformat": 4,
  "nbformat_minor": 5
}
